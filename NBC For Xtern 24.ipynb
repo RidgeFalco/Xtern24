{
 "cells": [
  {
   "cell_type": "code",
   "execution_count": 3,
   "id": "8f34af2e",
   "metadata": {},
   "outputs": [
    {
     "data": {
      "text/plain": [
       "'\\nCould not fully complete implementation but here is what I would do.\\n\\n1. Make sure that we take the data given and download it as a csv.\\n2. Then using pandas convert the csv into numpy arrays.\\n3. The Year, Major, University, and Time columns in the data will become features that we will model, and the final column\\n   order will be what we are trying to classify.\\n4. We will split some of the given data points into two sets. One set will be for training, and the other set will be for validation\\n5. After we have created our training data set with an array of Features (X_train) and an array of labels (Y_train), we will fit the model\\n6. After fitting the model we can then evaluate it given the validation set.\\n7. Finally, once we have fit the model, we can then predict a new given data point and predict what the label (order) will be!\\n\\n'"
      ]
     },
     "execution_count": 3,
     "metadata": {},
     "output_type": "execute_result"
    }
   ],
   "source": [
    "import nbc\n",
    "import numpy as np\n",
    "import pandas as pd\n",
    "\n",
    "\"\"\"\n",
    "I have wrote all of the needed functions for my Naive Bayes classifier in nbc.py\n",
    "\n",
    "However, I could not complete the full implementation, so I will just say what I would do next.\n",
    "\n",
    "1. Make sure that we take the data given and download it as a csv.\n",
    "2. Then using pandas convert the csv into numpy arrays.\n",
    "3. The Year, Major, University, and Time columns in the data will become features that we will model, and the final column\n",
    "   order will be what we are trying to classify.\n",
    "4. We will split some of the given data points into two sets. One set will be for training, and the other set will be for validation\n",
    "5. After we have created our training data set with an array of Features (X_train) and an array of labels (Y_train), we will fit the model\n",
    "6. After fitting the model we can then evaluate it given the validation set.\n",
    "7. Finally, once we have fit the model, we can then predict a new given data point and predict what the label (order) will be!\n",
    "\n",
    "\"\"\""
   ]
  }
 ],
 "metadata": {
  "kernelspec": {
   "display_name": "Python 3 (ipykernel)",
   "language": "python",
   "name": "python3"
  },
  "language_info": {
   "codemirror_mode": {
    "name": "ipython",
    "version": 3
   },
   "file_extension": ".py",
   "mimetype": "text/x-python",
   "name": "python",
   "nbconvert_exporter": "python",
   "pygments_lexer": "ipython3",
   "version": "3.11.4"
  }
 },
 "nbformat": 4,
 "nbformat_minor": 5
}
